{
 "cells": [
  {
   "cell_type": "code",
   "execution_count": 40,
   "metadata": {},
   "outputs": [
    {
     "name": "stdout",
     "output_type": "stream",
     "text": [
      "CUDA available\n",
      "1.0.1\n"
     ]
    }
   ],
   "source": [
    "import numpy as np\n",
    "\n",
    "import torch\n",
    "import torchvision # здесь находятся различные популярные датасеты\n",
    "\n",
    "if torch.cuda.is_available():\n",
    "    print(\"CUDA available\")\n",
    "    torch.cuda.manual_seed(0)\n",
    "else:\n",
    "    print(\"No CUDA for you :(\")\n",
    "    \n",
    "print(torch.__version__)\n",
    "%config InlineBackend.figure_format ='retina' # чтобы графики были красивее\n",
    "%matplotlib inline"
   ]
  },
  {
   "cell_type": "markdown",
   "metadata": {},
   "source": [
    "# Зачем нужен pytorch?"
   ]
  },
  {
   "cell_type": "markdown",
   "metadata": {},
   "source": [
    "1) Замена ```numpy```  свозможностью работы на GPU "
   ]
  },
  {
   "cell_type": "markdown",
   "metadata": {},
   "source": [
    "2) Низкоуровневая библиотека для ```DEEP LEARNING```"
   ]
  },
  {
   "cell_type": "markdown",
   "metadata": {},
   "source": [
    "# Базовые операции"
   ]
  },
  {
   "cell_type": "markdown",
   "metadata": {},
   "source": [
    "Основным элементом ```pytorch``` являются __тензоры__ - мы будем воспринимать их как н-мерные массивы.<br> \n",
    "Пример:"
   ]
  },
  {
   "cell_type": "code",
   "execution_count": 2,
   "metadata": {},
   "outputs": [
    {
     "data": {
      "text/plain": [
       "tensor([[0., 0., 0., 0.],\n",
       "        [0., 0., 0., 0.],\n",
       "        [0., 0., 0., 0.],\n",
       "        [0., 0., 0., 0.],\n",
       "        [0., 0., 0., 0.]])"
      ]
     },
     "execution_count": 2,
     "metadata": {},
     "output_type": "execute_result"
    }
   ],
   "source": [
    "torch.zeros(5,4)"
   ]
  },
  {
   "cell_type": "code",
   "execution_count": 3,
   "metadata": {},
   "outputs": [
    {
     "data": {
      "text/plain": [
       "tensor([[0.7430, 0.2543, 0.2479, 0.3458],\n",
       "        [0.6684, 0.8336, 0.1659, 0.7811],\n",
       "        [0.4232, 0.9097, 0.4544, 0.1186],\n",
       "        [0.7309, 0.1035, 0.3260, 0.1869],\n",
       "        [0.9454, 0.1395, 0.6029, 0.3463]])"
      ]
     },
     "execution_count": 3,
     "metadata": {},
     "output_type": "execute_result"
    }
   ],
   "source": [
    "torch.rand(5,4)"
   ]
  },
  {
   "cell_type": "markdown",
   "metadata": {},
   "source": [
    "Создавать тензоры можно и вручную из списков и из массивов:"
   ]
  },
  {
   "cell_type": "code",
   "execution_count": 4,
   "metadata": {},
   "outputs": [
    {
     "name": "stdout",
     "output_type": "stream",
     "text": [
      "tensor([1, 2, 3])\n",
      "tensor([1, 2, 3], dtype=torch.int32)\n"
     ]
    }
   ],
   "source": [
    "print(torch.tensor([1,2,3]))\n",
    "print(torch.tensor(np.array([1,2,3])))"
   ]
  },
  {
   "cell_type": "markdown",
   "metadata": {},
   "source": [
    "Также можно тензоры обратно переводить в массивы ```numpy``` за константное время:"
   ]
  },
  {
   "cell_type": "code",
   "execution_count": 5,
   "metadata": {},
   "outputs": [
    {
     "name": "stdout",
     "output_type": "stream",
     "text": [
      "67.1 ns ± 4.39 ns per loop (mean ± std. dev. of 7 runs, 10000000 loops each)\n",
      "61 ns ± 1.03 ns per loop (mean ± std. dev. of 7 runs, 10000000 loops each)\n",
      "60.1 ns ± 0.849 ns per loop (mean ± std. dev. of 7 runs, 10000000 loops each)\n"
     ]
    }
   ],
   "source": [
    "x = torch.rand(10,10)\n",
    "%timeit x.numpy\n",
    "x = torch.rand(100,100)\n",
    "%timeit x.numpy\n",
    "x = torch.rand(1000,1000)\n",
    "%timeit x.numpy"
   ]
  },
  {
   "cell_type": "markdown",
   "metadata": {},
   "source": [
    "Точно так же, как и в ```numpy```, можно производить арифметические операции над тензорами:"
   ]
  },
  {
   "cell_type": "code",
   "execution_count": 6,
   "metadata": {},
   "outputs": [],
   "source": [
    "x = torch.ones(5,3)\n",
    "y = torch.rand(5, 3)"
   ]
  },
  {
   "cell_type": "code",
   "execution_count": 7,
   "metadata": {},
   "outputs": [
    {
     "name": "stdout",
     "output_type": "stream",
     "text": [
      "tensor([[1., 1., 1.],\n",
      "        [1., 1., 1.],\n",
      "        [1., 1., 1.],\n",
      "        [1., 1., 1.],\n",
      "        [1., 1., 1.]])\n",
      "tensor([[0.3185, 0.9671, 0.6643],\n",
      "        [0.5024, 0.1867, 0.8814],\n",
      "        [0.4785, 0.1524, 0.5927],\n",
      "        [0.7607, 0.4822, 0.2954],\n",
      "        [0.9895, 0.2288, 0.7798]])\n"
     ]
    }
   ],
   "source": [
    "print(x)\n",
    "print(y)"
   ]
  },
  {
   "cell_type": "code",
   "execution_count": 8,
   "metadata": {},
   "outputs": [
    {
     "name": "stdout",
     "output_type": "stream",
     "text": [
      "tensor([[1.3185, 1.9671, 1.6643],\n",
      "        [1.5024, 1.1867, 1.8814],\n",
      "        [1.4785, 1.1524, 1.5927],\n",
      "        [1.7607, 1.4822, 1.2954],\n",
      "        [1.9895, 1.2288, 1.7798]])\n",
      "tensor([[1.3185, 1.9671, 1.6643],\n",
      "        [1.5024, 1.1867, 1.8814],\n",
      "        [1.4785, 1.1524, 1.5927],\n",
      "        [1.7607, 1.4822, 1.2954],\n",
      "        [1.9895, 1.2288, 1.7798]])\n"
     ]
    }
   ],
   "source": [
    "print(x+y)\n",
    "print(torch.add(x,y))"
   ]
  },
  {
   "cell_type": "code",
   "execution_count": 9,
   "metadata": {},
   "outputs": [
    {
     "name": "stdout",
     "output_type": "stream",
     "text": [
      "tensor([[0.3185, 0.9671, 0.6643],\n",
      "        [0.5024, 0.1867, 0.8814],\n",
      "        [0.4785, 0.1524, 0.5927],\n",
      "        [0.7607, 0.4822, 0.2954],\n",
      "        [0.9895, 0.2288, 0.7798]])\n",
      "tensor([[0.3185, 0.9671, 0.6643],\n",
      "        [0.5024, 0.1867, 0.8814],\n",
      "        [0.4785, 0.1524, 0.5927],\n",
      "        [0.7607, 0.4822, 0.2954],\n",
      "        [0.9895, 0.2288, 0.7798]])\n"
     ]
    }
   ],
   "source": [
    "print(x*y)\n",
    "print(torch.mul(x,y))"
   ]
  },
  {
   "cell_type": "markdown",
   "metadata": {},
   "source": [
    "Операции, заканчивающиеся на нижнее подчеркивание, __не чистые__, то есть они изменяют элемент, к которому были применены. <br> Пример:"
   ]
  },
  {
   "cell_type": "code",
   "execution_count": 10,
   "metadata": {},
   "outputs": [
    {
     "name": "stdout",
     "output_type": "stream",
     "text": [
      "tensor([[0.3185, 0.9671, 0.6643],\n",
      "        [0.5024, 0.1867, 0.8814],\n",
      "        [0.4785, 0.1524, 0.5927],\n",
      "        [0.7607, 0.4822, 0.2954],\n",
      "        [0.9895, 0.2288, 0.7798]])\n",
      "tensor([[1.3185, 1.9671, 1.6643],\n",
      "        [1.5024, 1.1867, 1.8814],\n",
      "        [1.4785, 1.1524, 1.5927],\n",
      "        [1.7607, 1.4822, 1.2954],\n",
      "        [1.9895, 1.2288, 1.7798]])\n"
     ]
    }
   ],
   "source": [
    "print(y)\n",
    "y.add_(x)\n",
    "print(y)"
   ]
  },
  {
   "cell_type": "markdown",
   "metadata": {},
   "source": [
    "В ```pytorch``` поддерживаются вычисления на видеокарте:"
   ]
  },
  {
   "cell_type": "code",
   "execution_count": 12,
   "metadata": {},
   "outputs": [
    {
     "name": "stdout",
     "output_type": "stream",
     "text": [
      "tensor([[2., 2., 2.],\n",
      "        [2., 2., 2.],\n",
      "        [2., 2., 2.],\n",
      "        [2., 2., 2.],\n",
      "        [2., 2., 2.]], device='cuda:0')\n",
      "tensor([[2., 2., 2.],\n",
      "        [2., 2., 2.],\n",
      "        [2., 2., 2.],\n",
      "        [2., 2., 2.],\n",
      "        [2., 2., 2.]], dtype=torch.float64)\n"
     ]
    }
   ],
   "source": [
    "if torch.cuda.is_available():\n",
    "    device = torch.device(\"cuda\")          \n",
    "    y = torch.ones_like(x, device=device)  \n",
    "    x = x.to(device)                       \n",
    "    z = x + y\n",
    "    print(z)\n",
    "    print(z.to(\"cpu\", torch.double))     \n",
    "else:\n",
    "    print(\"FeelsBadMan\")"
   ]
  },
  {
   "cell_type": "markdown",
   "metadata": {},
   "source": [
    "# AUTOGRAD"
   ]
  },
  {
   "cell_type": "markdown",
   "metadata": {},
   "source": [
    "Пакет ```autograd``` - одна из самых важных вещей в ```pytorch```. В нем находятся функции для автоматического взятия производных от тензоров. "
   ]
  },
  {
   "cell_type": "markdown",
   "metadata": {},
   "source": [
    "У ```torch.tensor``` есть аттрибут ```.requires_grad``` , и если его поставить ```True``` , то все операции над этим тензором начнут записываться, чтобы можно было взять производную."
   ]
  },
  {
   "cell_type": "code",
   "execution_count": 13,
   "metadata": {},
   "outputs": [],
   "source": [
    "x = torch.ones(2,2, requires_grad = True)"
   ]
  },
  {
   "cell_type": "code",
   "execution_count": 14,
   "metadata": {},
   "outputs": [
    {
     "data": {
      "text/plain": [
       "tensor([[1., 1.],\n",
       "        [1., 1.]], requires_grad=True)"
      ]
     },
     "execution_count": 14,
     "metadata": {},
     "output_type": "execute_result"
    }
   ],
   "source": [
    "x"
   ]
  },
  {
   "cell_type": "markdown",
   "metadata": {},
   "source": [
    "Чтобы остановить отслеживание операций, к тензору надо применить метод ```.detach()```"
   ]
  },
  {
   "cell_type": "markdown",
   "metadata": {},
   "source": [
    "Еще один важное понятие  для ```autograd``` - это ```.grad_fn```<br>\n",
    "Это аттрибут тензора, который показывает, с помощью какой функции был создан этот тензор.<br> Если тензор был создан вручную, то ```.grad_fn = None```"
   ]
  },
  {
   "cell_type": "code",
   "execution_count": 15,
   "metadata": {},
   "outputs": [
    {
     "name": "stdout",
     "output_type": "stream",
     "text": [
      "None\n"
     ]
    }
   ],
   "source": [
    "print(x.grad_fn)"
   ]
  },
  {
   "cell_type": "code",
   "execution_count": 16,
   "metadata": {},
   "outputs": [
    {
     "data": {
      "text/plain": [
       "tensor([[3., 3.],\n",
       "        [3., 3.]], grad_fn=<AddBackward0>)"
      ]
     },
     "execution_count": 16,
     "metadata": {},
     "output_type": "execute_result"
    }
   ],
   "source": [
    "y = x + 2\n",
    "y"
   ]
  },
  {
   "cell_type": "code",
   "execution_count": 17,
   "metadata": {},
   "outputs": [
    {
     "name": "stdout",
     "output_type": "stream",
     "text": [
      "<AddBackward0 object at 0x0000023144431BE0>\n"
     ]
    }
   ],
   "source": [
    "print(y.grad_fn)"
   ]
  },
  {
   "cell_type": "markdown",
   "metadata": {},
   "source": [
    "Чтобы посчитать производную тензора, к нему применяется метод ```.baсkward()```."
   ]
  },
  {
   "cell_type": "markdown",
   "metadata": {},
   "source": [
    "Если тензор состоял из единственного числа, то в ```.backward``` никаких аргументов передавать не нужно. <br>\n",
    "[Подробнее об аргументах ```.backward``` - второй ответ](https://stackoverflow.com/questions/43451125/pytorch-what-are-the-gradient-arguments)"
   ]
  },
  {
   "cell_type": "markdown",
   "metadata": {},
   "source": [
    "Создадим тензор с ```.requires_grad = True``` для отслеживания вычислений над ним, и совершим несколько операций:"
   ]
  },
  {
   "cell_type": "code",
   "execution_count": 18,
   "metadata": {},
   "outputs": [
    {
     "data": {
      "text/plain": [
       "tensor([[1., 1.],\n",
       "        [1., 1.]], requires_grad=True)"
      ]
     },
     "execution_count": 18,
     "metadata": {},
     "output_type": "execute_result"
    }
   ],
   "source": [
    "x = torch.ones(2,2,requires_grad = True)\n",
    "x"
   ]
  },
  {
   "cell_type": "code",
   "execution_count": 19,
   "metadata": {},
   "outputs": [],
   "source": [
    "y = x + 2"
   ]
  },
  {
   "cell_type": "code",
   "execution_count": 20,
   "metadata": {},
   "outputs": [
    {
     "data": {
      "text/plain": [
       "tensor([[27., 27.],\n",
       "        [27., 27.]], grad_fn=<MulBackward0>)"
      ]
     },
     "execution_count": 20,
     "metadata": {},
     "output_type": "execute_result"
    }
   ],
   "source": [
    "z = 3 * y**2\n",
    "z.requires_grad_(True)"
   ]
  },
  {
   "cell_type": "code",
   "execution_count": 21,
   "metadata": {},
   "outputs": [
    {
     "data": {
      "text/plain": [
       "tensor(27., grad_fn=<MeanBackward1>)"
      ]
     },
     "execution_count": 21,
     "metadata": {},
     "output_type": "execute_result"
    }
   ],
   "source": [
    "out = z.mean()\n",
    "out"
   ]
  },
  {
   "cell_type": "code",
   "execution_count": 22,
   "metadata": {},
   "outputs": [],
   "source": [
    "out.backward(torch.tensor([1.]))"
   ]
  },
  {
   "cell_type": "code",
   "execution_count": 23,
   "metadata": {},
   "outputs": [
    {
     "data": {
      "text/plain": [
       "tensor([[4.5000, 4.5000],\n",
       "        [4.5000, 4.5000]])"
      ]
     },
     "execution_count": 23,
     "metadata": {},
     "output_type": "execute_result"
    }
   ],
   "source": [
    "x.grad"
   ]
  },
  {
   "cell_type": "markdown",
   "metadata": {},
   "source": [
    "Объяснение произошедшему:"
   ]
  },
  {
   "cell_type": "markdown",
   "metadata": {},
   "source": [
    "$$\n",
    "\\begin{align}\n",
    "\\textbf{out} = \\frac14 \\sum_i{z_i} = \\frac14 \\sum_i{3~(x_i+2)^2} \\newline\n",
    "\\newline\n",
    "\\frac{\\partial ~\\textbf{out}}{\\partial ~x_i} = \\frac{\\partial ~out}{\\partial ~z} \\frac{\\partial ~z}{\\partial ~y} \\frac{\\partial ~y}{\\partial ~x_i} \n",
    "\\newline\n",
    "\\newline\n",
    "\\frac{\\partial ~\\textbf{out}}{\\partial ~x_i} =  \\frac32~(x_i+2) = \\frac92 = 4.5\n",
    "\\end{align}\n",
    "$$"
   ]
  },
  {
   "cell_type": "markdown",
   "metadata": {},
   "source": [
    "<div class=\"alert alert-warning\">\n",
    "\n",
    "<b>Задание</b>\n",
    "\n",
    "```x = torch.eye(2, requires_grad = True)\n",
    "y = x/12\n",
    "z = (y + 5)**2\n",
    "out = z.sum()```\n",
    "<br>\n",
    "<br>\n",
    "Что вернет ```x.grad``` после вызова ```out.backward()```?\n",
    "</div>"
   ]
  },
  {
   "cell_type": "markdown",
   "metadata": {},
   "source": [
    "# Нейронные сети"
   ]
  },
  {
   "cell_type": "markdown",
   "metadata": {},
   "source": [
    "Построим модель нейронной сети, в которой мы сами реализуем разбиение данных на мини-батчи, итерации по ним и прямое распространение(```forward propagation```). <br>\n",
    "Обратное распространение (```backpropagation```) сделаем при помощи ```.backward```"
   ]
  },
  {
   "cell_type": "code",
   "execution_count": 24,
   "metadata": {},
   "outputs": [],
   "source": [
    "import time\n",
    "from sklearn.datasets import make_moons # генератор данных \n",
    "from sklearn.metrics import accuracy_score\n",
    "from sklearn.model_selection import train_test_split\n",
    "import pandas as pd\n",
    "\n",
    "import torch.optim as optim\n",
    "import torch.nn as nn\n",
    "import torch.nn.functional as F"
   ]
  },
  {
   "cell_type": "code",
   "execution_count": 25,
   "metadata": {},
   "outputs": [],
   "source": [
    "xm, ym = make_moons(n_samples = 10000, noise=0.1)\n",
    "ym = ym.reshape(-1,1)\n",
    "xm_train, xm_test, ym_train, ym_test = [torch.tensor(i) for i in train_test_split(xm,ym, test_size = 0.2)]"
   ]
  },
  {
   "cell_type": "markdown",
   "metadata": {},
   "source": [
    "Генератор минибатчей:"
   ]
  },
  {
   "cell_type": "code",
   "execution_count": 26,
   "metadata": {},
   "outputs": [],
   "source": [
    "def generate_minibatches(inputs, targets, batchsize = 16, shuffle=False):\n",
    "    assert inputs.shape[0] == targets.shape[0]\n",
    "    if shuffle:\n",
    "        indices = np.arange(inputs.shape[0])\n",
    "        np.random.shuffle(indices)\n",
    "    for start_id in range(0, inputs.shape[0], batchsize):\n",
    "        end_id = min(start_id + batchsize, inputs.shape[0])\n",
    "        if shuffle:\n",
    "            batch_indices = indices[start_id:end_id]\n",
    "        else:\n",
    "            batch_indices = slice(start_id, end_id)\n",
    "        yield inputs[batch_indices], targets[batch_indices]"
   ]
  },
  {
   "cell_type": "markdown",
   "metadata": {},
   "source": [
    "В ```pytorch``` модель состоит из слоев, например ```nn.Linear(...)```<br>\n",
    "```nn.Linear(...)``` - набор параметров (матрица весов и вектор смещения)"
   ]
  },
  {
   "cell_type": "code",
   "execution_count": 27,
   "metadata": {},
   "outputs": [
    {
     "data": {
      "text/plain": [
       "[Parameter containing:\n",
       " tensor([[ 0.1774,  0.0624],\n",
       "         [ 0.1387, -0.6759],\n",
       "         [ 0.5376,  0.1600],\n",
       "         [-0.4041,  0.1525],\n",
       "         [-0.4406, -0.4313],\n",
       "         [-0.5241,  0.2126],\n",
       "         [-0.0240, -0.1011],\n",
       "         [-0.4647, -0.1446],\n",
       "         [ 0.1912,  0.0850],\n",
       "         [-0.5226,  0.1319],\n",
       "         [-0.4026,  0.3910],\n",
       "         [ 0.3871, -0.4651],\n",
       "         [-0.0301, -0.2985],\n",
       "         [-0.1907,  0.5864],\n",
       "         [ 0.3607, -0.2782],\n",
       "         [ 0.4613, -0.6778],\n",
       "         [ 0.0561,  0.1233],\n",
       "         [-0.0913,  0.0134],\n",
       "         [-0.3103, -0.4612],\n",
       "         [ 0.0814,  0.0559]], requires_grad=True), Parameter containing:\n",
       " tensor([-0.4609,  0.0861,  0.5567, -0.5645,  0.4045, -0.2793,  0.4977, -0.5856,\n",
       "         -0.5008,  0.6988,  0.1657, -0.4900, -0.6479,  0.3558, -0.3662, -0.1991,\n",
       "          0.2710,  0.4578, -0.6663, -0.5300], requires_grad=True)]"
      ]
     },
     "execution_count": 27,
     "metadata": {},
     "output_type": "execute_result"
    }
   ],
   "source": [
    "list(nn.Linear(2,20).parameters())"
   ]
  },
  {
   "cell_type": "markdown",
   "metadata": {},
   "source": [
    "Чтобы задать модель нейронной сети, надо определить методы ```__init__```, в котором определяется структура нейронной сети, и ```forward```, где описывается прямое распространение. <br>\n",
    "А также модель должна наследовать класс ```nn.Module```"
   ]
  },
  {
   "cell_type": "markdown",
   "metadata": {},
   "source": [
    "## Создание"
   ]
  },
  {
   "cell_type": "code",
   "execution_count": 28,
   "metadata": {},
   "outputs": [
    {
     "name": "stdout",
     "output_type": "stream",
     "text": [
      "Net(\n",
      "  (l1): Linear(in_features=2, out_features=20, bias=True)\n",
      "  (l2): Linear(in_features=20, out_features=1, bias=True)\n",
      ")\n"
     ]
    }
   ],
   "source": [
    "class Net(nn.Module):\n",
    "\n",
    "    def __init__(self, seed = 0):\n",
    "        super().__init__()\n",
    "            \n",
    "        self.l1 = nn.Linear(2, 20)\n",
    "        self.l2 = nn.Linear(20, 1)\n",
    "        \n",
    "        \n",
    "    def forward(self, x):\n",
    "        x = torch.relu(self.l1(x))\n",
    "        x = torch.sigmoid(self.l2(x))\n",
    "        \n",
    "        return x\n",
    "\n",
    "net = Net()\n",
    "print(net)"
   ]
  },
  {
   "cell_type": "markdown",
   "metadata": {},
   "source": [
    "В ```pytorch``` представлены несколько видов функций потерь, например: <br>\n",
    "```nn.MSELoss()``` - Mean Squared Error <br>\n",
    "```nn.L1Loss()``` - MAE <br>\n",
    "```nn.CrossEntropyLoss()``` - перекрестная энтропия, в которую входит softmax<br>\n",
    "То есть, если мы хотим использовать ```nn.CrossEntropyLoss()``` в качестве функции потерь в модели нейронной сети, на последнем слое __не надо применять softmax__. Также особенностью реализации ```nn.CrossEntropyLoss()``` в ```pytorch``` является то, что эта функция потерь принимает на вход __не one-hot-encoded вектора__, а обычные номера классов.\n",
    "    \n",
    "[Полный список функций потерь](https://pytorch.org/docs/stable/_modules/torch/nn/modules/loss.html)"
   ]
  },
  {
   "cell_type": "markdown",
   "metadata": {},
   "source": [
    "## Обучение"
   ]
  },
  {
   "cell_type": "markdown",
   "metadata": {},
   "source": [
    "В этом примере мы взяли на себя итерирование по эпохам, минибатчам, подсчет функционала качества, обновление значений весов и смещений и обнуление градиентов тензоров после обновления."
   ]
  },
  {
   "cell_type": "markdown",
   "metadata": {},
   "source": [
    "### Зачем обнулять градиенты?\n",
    "Каждый раз, когда вызывается метод ```.backward``` градиенты тензоров не обновляются (то есть их __не замещают новые значения__), а __накапливаются__. Поэтому, чтобы градиенты не смешивались, необходимо на каждом шаге их обнулять."
   ]
  },
  {
   "cell_type": "code",
   "execution_count": 36,
   "metadata": {
    "scrolled": true
   },
   "outputs": [
    {
     "name": "stdout",
     "output_type": "stream",
     "text": [
      "Loss on epoch 0 - 19.918247647583485\n",
      "Loss on epoch 10 - 9.09629800915718\n",
      "Loss on epoch 20 - 6.86809922195971\n",
      "Loss on epoch 30 - 4.025192830711603\n",
      "Loss on epoch 40 - 2.269496842287481\n",
      "Loss on epoch 50 - 1.5043376053217798\n",
      "Loss on epoch 60 - 1.1228804800193757\n",
      "Loss on epoch 70 - 0.903727944358252\n",
      "Loss on epoch 80 - 0.7593718989519402\n",
      "Loss on epoch 90 - 0.6578385427128524\n"
     ]
    }
   ],
   "source": [
    "seed = 0\n",
    "torch.manual_seed(seed)\n",
    "np.random.seed(seed) # это нужно, так как генератор минибатчей использует np.random.shuffle\n",
    "\n",
    "\n",
    "net1 = Net()\n",
    "\n",
    "criterion = nn.MSELoss()\n",
    "\n",
    "lr = 0.1\n",
    "\n",
    "for epoch in range(100):\n",
    "    \n",
    "    running_loss = 0.0\n",
    "    \n",
    "    for batch in generate_minibatches(xm_train,ym_train,64,shuffle = True):\n",
    "        \n",
    "        data, labels = batch\n",
    "        \n",
    "        # Прямое распространение\n",
    "        output = net1(data.float())\n",
    "        \n",
    "        # Подсчет ошибки на батче\n",
    "        loss = criterion(output, labels.float())\n",
    "        \n",
    "        # Обратное распространение\n",
    "        loss.backward()\n",
    "    \n",
    "        #Обновление весов и обнуление градиентов\n",
    "        with torch.no_grad(): # torch.no_grad() отключает отслеживание вычислений над тензорами в блоке\n",
    "            for parameter in net1.parameters():\n",
    "                parameter.data -= lr * parameter.grad\n",
    "                parameter.grad = torch.zeros_like(parameter)\n",
    "\n",
    "        running_loss += loss.item()\n",
    "            \n",
    "            \n",
    "    if epoch%10==0:\n",
    "        print(f\"Loss on epoch {epoch} - {running_loss}\") \n",
    "        "
   ]
  },
  {
   "cell_type": "markdown",
   "metadata": {},
   "source": [
    "Того же самого результата можно добиться, используя встроенные в ```pytorch``` оптимизаторы и функции для обновления и обнуления градиентов."
   ]
  },
  {
   "cell_type": "markdown",
   "metadata": {},
   "source": [
    "Виды возможных оптимизаторов:<br>\n",
    "```optim.SGD``` - стохастический градиентный градиентный спуск (на самом деле, ему можно подавать батч любого размера, так что SGD - градиентный спуск по минибатчам)<br>\n",
    "```optim.Adam```  [ссылка на курсеру](https://www.coursera.org/learn/deep-neural-network/lecture/w9VCZ/adam-optimization-algorithm)<br>\n",
    "```optim.RMSprop```  [ссылка на курсеру](https://www.coursera.org/learn/deep-neural-network/lecture/BhJlm/rmsprop) <br>\n",
    "<br>\n",
    "[Полный список оптимизаторов](https://pytorch.org/docs/stable/optim.html])"
   ]
  },
  {
   "cell_type": "markdown",
   "metadata": {},
   "source": [
    "Чтобы инициализировать оптимизатор, в него надо передать параметры обучаемой модели ```net.parameters()``` и начальную скорость обучения (learning rate)"
   ]
  },
  {
   "cell_type": "code",
   "execution_count": 37,
   "metadata": {},
   "outputs": [
    {
     "name": "stdout",
     "output_type": "stream",
     "text": [
      "Loss on epoch 0 - 19.918247647583485\n",
      "Loss on epoch 10 - 9.09629800915718\n",
      "Loss on epoch 20 - 6.86809922195971\n",
      "Loss on epoch 30 - 4.025192830711603\n",
      "Loss on epoch 40 - 2.269496842287481\n",
      "Loss on epoch 50 - 1.5043376053217798\n",
      "Loss on epoch 60 - 1.1228804800193757\n",
      "Loss on epoch 70 - 0.903727944358252\n",
      "Loss on epoch 80 - 0.7593718989519402\n",
      "Loss on epoch 90 - 0.6578385427128524\n"
     ]
    }
   ],
   "source": [
    "seed = 0\n",
    "torch.manual_seed(seed)\n",
    "np.random.seed(seed)\n",
    "    \n",
    "net2 = Net()\n",
    "\n",
    "# В нашем случае будем использовать обычный градиентный спуск по минибатчам, как и в прошлый раз\n",
    "optimizer = optim.SGD(net2.parameters(), lr = 0.1)\n",
    "\n",
    "criterion = nn.MSELoss()\n",
    "\n",
    "for epoch in range(100):\n",
    "    running_loss = 0.0\n",
    "    for batch in generate_minibatches(xm_train,ym_train,64,shuffle = True):\n",
    "        \n",
    "        data, labels = batch\n",
    "        \n",
    "        # Прямое распространение\n",
    "        output = net2(data.float())\n",
    "        \n",
    "        # Подсчет ошибки на батче\n",
    "        loss = criterion(output, labels.float())\n",
    "        \n",
    "        # Обратное распространение\n",
    "        loss.backward()\n",
    "        \n",
    "        #Обновление весов\n",
    "        optimizer.step()\n",
    "        \n",
    "        #Обнуление градиентов\n",
    "        optimizer.zero_grad() \n",
    "        \n",
    "        running_loss += loss.item()\n",
    "            \n",
    "    if epoch%10==0:\n",
    "        print(f\"Loss on epoch {epoch} - {running_loss}\") "
   ]
  },
  {
   "cell_type": "markdown",
   "metadata": {},
   "source": [
    "Посмотрим, что получилось:"
   ]
  },
  {
   "cell_type": "code",
   "execution_count": 38,
   "metadata": {},
   "outputs": [],
   "source": [
    "def plot_labels(data,target):\n",
    "    df = pd.DataFrame(dict(x=data[:,0], y=data[:,1], label=target))\n",
    "    colors = {0:'red', 1:'blue'}\n",
    "    fig, ax = plt.subplots()\n",
    "    grouped = df.groupby('label')\n",
    "    for key, group in grouped:\n",
    "        group.plot(ax=ax, kind='scatter', x='x', y='y', label=key, color=colors[key])\n",
    "    plt.show()"
   ]
  },
  {
   "cell_type": "code",
   "execution_count": 41,
   "metadata": {
    "scrolled": true
   },
   "outputs": [
    {
     "data": {
      "image/png": "[encoded data removed]",
      "text/plain": [
       "<Figure size 432x288 with 1 Axes>"
      ]
     },
     "metadata": {
      "image/png": {
       "height": 263,
       "width": 395
      },
      "needs_background": "light"
     },
     "output_type": "display_data"
    }
   ],
   "source": [
    "import matplotlib.pyplot as plt\n",
    "plot_labels(xm_test.numpy(),np.round(net2(xm_test.float()).detach()).reshape(-1,))"
   ]
  },
  {
   "cell_type": "markdown",
   "metadata": {},
   "source": [
    "# Вычисление медианной стоимости дома"
   ]
  },
  {
   "cell_type": "markdown",
   "metadata": {},
   "source": [
    "Как и раньше стоит задача предсказания медианной стоимости дома.\n",
    "Подгрузим данные и разобьем их на __train__ и __val__."
   ]
  },
  {
   "cell_type": "code",
   "execution_count": 42,
   "metadata": {},
   "outputs": [
    {
     "data": {
      "text/html": [
       "<div>\n",
       "<style scoped>\n",
       "    .dataframe tbody tr th:only-of-type {\n",
       "        vertical-align: middle;\n",
       "    }\n",
       "\n",
       "    .dataframe tbody tr th {\n",
       "        vertical-align: top;\n",
       "    }\n",
       "\n",
       "    .dataframe thead th {\n",
       "        text-align: right;\n",
       "    }\n",
       "</style>\n",
       "<table border=\"1\" class=\"dataframe\">\n",
       "  <thead>\n",
       "    <tr style=\"text-align: right;\">\n",
       "      <th></th>\n",
       "      <th>longitude</th>\n",
       "      <th>latitude</th>\n",
       "      <th>housing_median_age</th>\n",
       "      <th>total_rooms</th>\n",
       "      <th>total_bedrooms</th>\n",
       "      <th>population</th>\n",
       "      <th>households</th>\n",
       "      <th>median_income</th>\n",
       "      <th>median_house_value</th>\n",
       "    </tr>\n",
       "  </thead>\n",
       "  <tbody>\n",
       "    <tr>\n",
       "      <th>12240</th>\n",
       "      <td>-121.47</td>\n",
       "      <td>38.49</td>\n",
       "      <td>17.0</td>\n",
       "      <td>3595.0</td>\n",
       "      <td>790.0</td>\n",
       "      <td>2760.0</td>\n",
       "      <td>770.0</td>\n",
       "      <td>2.3233</td>\n",
       "      <td>78800.0</td>\n",
       "    </tr>\n",
       "    <tr>\n",
       "      <th>8625</th>\n",
       "      <td>-118.53</td>\n",
       "      <td>34.18</td>\n",
       "      <td>16.0</td>\n",
       "      <td>7194.0</td>\n",
       "      <td>1976.0</td>\n",
       "      <td>3687.0</td>\n",
       "      <td>1894.0</td>\n",
       "      <td>3.1887</td>\n",
       "      <td>189300.0</td>\n",
       "    </tr>\n",
       "    <tr>\n",
       "      <th>10045</th>\n",
       "      <td>-119.79</td>\n",
       "      <td>36.78</td>\n",
       "      <td>41.0</td>\n",
       "      <td>2227.0</td>\n",
       "      <td>462.0</td>\n",
       "      <td>1129.0</td>\n",
       "      <td>415.0</td>\n",
       "      <td>2.3190</td>\n",
       "      <td>59100.0</td>\n",
       "    </tr>\n",
       "    <tr>\n",
       "      <th>2032</th>\n",
       "      <td>-117.32</td>\n",
       "      <td>34.06</td>\n",
       "      <td>52.0</td>\n",
       "      <td>802.0</td>\n",
       "      <td>160.0</td>\n",
       "      <td>564.0</td>\n",
       "      <td>131.0</td>\n",
       "      <td>2.1591</td>\n",
       "      <td>63500.0</td>\n",
       "    </tr>\n",
       "    <tr>\n",
       "      <th>11590</th>\n",
       "      <td>-121.28</td>\n",
       "      <td>38.55</td>\n",
       "      <td>35.0</td>\n",
       "      <td>7088.0</td>\n",
       "      <td>1279.0</td>\n",
       "      <td>4885.0</td>\n",
       "      <td>1272.0</td>\n",
       "      <td>2.6981</td>\n",
       "      <td>112500.0</td>\n",
       "    </tr>\n",
       "  </tbody>\n",
       "</table>\n",
       "</div>"
      ],
      "text/plain": [
       "       longitude  latitude  housing_median_age  total_rooms  total_bedrooms  \\\n",
       "12240    -121.47     38.49                17.0       3595.0           790.0   \n",
       "8625     -118.53     34.18                16.0       7194.0          1976.0   \n",
       "10045    -119.79     36.78                41.0       2227.0           462.0   \n",
       "2032     -117.32     34.06                52.0        802.0           160.0   \n",
       "11590    -121.28     38.55                35.0       7088.0          1279.0   \n",
       "\n",
       "       population  households  median_income  median_house_value  \n",
       "12240      2760.0       770.0         2.3233             78800.0  \n",
       "8625       3687.0      1894.0         3.1887            189300.0  \n",
       "10045      1129.0       415.0         2.3190             59100.0  \n",
       "2032        564.0       131.0         2.1591             63500.0  \n",
       "11590      4885.0      1272.0         2.6981            112500.0  "
      ]
     },
     "execution_count": 42,
     "metadata": {},
     "output_type": "execute_result"
    }
   ],
   "source": [
    "california_housing_dataframe = pd.read_csv(\"https://download.mlcc.google.com/mledu-datasets/california_housing_train.csv\", sep=\",\")\n",
    "\n",
    "california_housing_dataframe = california_housing_dataframe.reindex(\n",
    "    np.random.permutation(california_housing_dataframe.index))\n",
    "california_housing_dataframe.head()\n"
   ]
  },
  {
   "cell_type": "code",
   "execution_count": 43,
   "metadata": {},
   "outputs": [],
   "source": [
    "def preprocess_features(df):\n",
    "    \"\"\"Prepares input features from California housing data set.\n",
    "\n",
    "    Args:\n",
    "      california_housing_dataframe: A Pandas DataFrame expected to contain data\n",
    "        from the California housing data set.\n",
    "    Returns:\n",
    "      A DataFrame that contains the features to be used for the model, including\n",
    "      synthetic features.\n",
    "    \"\"\"\n",
    "    selected_features = df[\n",
    "            [\"latitude\",\n",
    "             \"longitude\",\n",
    "             \"housing_median_age\",\n",
    "             \"total_rooms\",\n",
    "             \"total_bedrooms\",\n",
    "             \"population\",\n",
    "             \"households\",\n",
    "             \"median_income\"]]\n",
    "    processed_features = selected_features.copy()\n",
    "    # Create a synthetic feature.\n",
    "    processed_features[\"rooms_per_person\"] = (df[\"total_rooms\"]/df[\"population\"])\n",
    "    return processed_features\n",
    "\n",
    "def preprocess_targets(df):\n",
    "    \"\"\"Prepares target features (i.e., labels) from California housing data set.\n",
    "\n",
    "      Args:\n",
    "        california_housing_dataframe: A Pandas DataFrame expected to contain data\n",
    "          from the California housing data set.\n",
    "      Returns:\n",
    "        A DataFrame that contains the target feature.\n",
    "      \"\"\"\n",
    "    output_targets = pd.DataFrame()\n",
    "    # Scale the target to be in units of thousands of dollars.\n",
    "    output_targets[\"median_house_value\"] = (df[\"median_house_value\"] / 1000.0)\n",
    "    return output_targets"
   ]
  },
  {
   "cell_type": "code",
   "execution_count": 44,
   "metadata": {},
   "outputs": [],
   "source": [
    "# Choose the first 12000 (out of 17000) examples for training.\n",
    "training_examples = preprocess_features(california_housing_dataframe.head(12000))\n",
    "training_targets = preprocess_targets(california_housing_dataframe.head(12000))\n",
    "\n",
    "# Choose the last 5000 (out of 17000) examples for validation.\n",
    "validation_examples = preprocess_features(california_housing_dataframe.tail(5000))\n",
    "validation_targets = preprocess_targets(california_housing_dataframe.tail(5000))"
   ]
  },
  {
   "cell_type": "markdown",
   "metadata": {},
   "source": [
    "Переведем все в ```torch.tensor```."
   ]
  },
  {
   "cell_type": "code",
   "execution_count": 45,
   "metadata": {},
   "outputs": [],
   "source": [
    "training_examples = torch.tensor(training_examples.values).float()\n",
    "training_targets = torch.tensor(training_targets.values).float()\n",
    "\n",
    "validation_examples = torch.tensor(validation_examples.values).float()\n",
    "validation_targets = torch.tensor(validation_targets.values).float()"
   ]
  },
  {
   "cell_type": "markdown",
   "metadata": {},
   "source": [
    "Надо предсказать единственное вещественное значение, а количество признаков - 9, а значит на входном слое сети будет 9 нейронов, а на выходном 1."
   ]
  },
  {
   "cell_type": "markdown",
   "metadata": {},
   "source": [
    "Зададим свою сеть со скрытыми слоями."
   ]
  },
  {
   "cell_type": "code",
   "execution_count": 46,
   "metadata": {},
   "outputs": [
    {
     "name": "stdout",
     "output_type": "stream",
     "text": [
      "HouseValueNet(\n",
      "  (l1): Linear(in_features=9, out_features=20, bias=True)\n",
      "  (l2): Linear(in_features=20, out_features=10, bias=True)\n",
      "  (l3): Linear(in_features=10, out_features=1, bias=True)\n",
      ")\n"
     ]
    }
   ],
   "source": [
    "class HouseValueNet(nn.Module):\n",
    "\n",
    "    def __init__(self, seed = 0):\n",
    "        super().__init__()\n",
    "            \n",
    "        self.l1 = nn.Linear(9, 20)\n",
    "        self.l2 = nn.Linear(20, 10)\n",
    "        self.l3 = nn.Linear(10, 1)\n",
    "        with torch.no_grad(): # torch.no_grad() отключает отслеживание вычислений над тензорами в блоке\n",
    "            for parameter in self.parameters():\n",
    "                parameter.data*=0.01\n",
    "          \n",
    "    def forward(self, x):\n",
    "        x = torch.relu(self.l1(x))\n",
    "        x = torch.relu(self.l2(x))\n",
    "        x = self.l3(x)\n",
    "        \n",
    "        return x\n",
    "\n",
    "net = HouseValueNet()\n",
    "print(net)"
   ]
  },
  {
   "cell_type": "markdown",
   "metadata": {},
   "source": [
    "Обучим нейронную сеть. В качестве оптимизатора возьмем ```optim.Adam``` с ```lr = 0.05```."
   ]
  },
  {
   "cell_type": "code",
   "execution_count": 47,
   "metadata": {},
   "outputs": [
    {
     "name": "stdout",
     "output_type": "stream",
     "text": [
      "Mean loss on epoch 0 - 118.77101772389513\n",
      "Mean loss on epoch 10 - 79.85389423370361\n",
      "Mean loss on epoch 20 - 74.69294921388017\n",
      "Mean loss on epoch 30 - 75.77343520712346\n",
      "Mean loss on epoch 40 - 73.19760018206657\n",
      "Mean loss on epoch 50 - 72.31327996355422\n",
      "Mean loss on epoch 60 - 72.33934670306266\n",
      "Mean loss on epoch 70 - 72.31854284570572\n",
      "Mean loss on epoch 80 - 72.38170635953863\n",
      "Mean loss on epoch 90 - 72.2732303903458\n"
     ]
    }
   ],
   "source": [
    "seed = 0\n",
    "torch.manual_seed(seed)\n",
    "np.random.seed(seed)\n",
    "    \n",
    "net3 = HouseValueNet()\n",
    "\n",
    "# Будем использовать обычный градиентный спуск по минибатчам, как и в прошлый раз\n",
    "optimizer = optim.Adam(net3.parameters(),  lr = 0.05)\n",
    "\n",
    "criterion = nn.MSELoss()\n",
    "losses = []\n",
    "for epoch in range(100):\n",
    "    running_loss = 0.0\n",
    "    batch_counter = 0\n",
    "    for batch in generate_minibatches(training_examples,training_targets,64,shuffle = True):\n",
    "        \n",
    "        data, labels = batch\n",
    "        \n",
    "        # Прямое распространение\n",
    "        output = net3(data.float())\n",
    "        \n",
    "        # Подсчет ошибки на батче\n",
    "        loss = torch.sqrt(criterion(output, labels.float()))\n",
    "\n",
    "        # Обратное распространение\n",
    "        loss.backward()\n",
    "        \n",
    "        #Обновление весов\n",
    "        optimizer.step()\n",
    "        \n",
    "        #Обнуление градиентов\n",
    "        optimizer.zero_grad() \n",
    "        \n",
    "        running_loss += loss.item()\n",
    "        losses.append(loss)\n",
    "        batch_counter +=1\n",
    "        \n",
    "    if epoch%10==0:\n",
    "        print(f\"Mean loss on epoch {epoch} - {running_loss/batch_counter}\") "
   ]
  },
  {
   "cell_type": "markdown",
   "metadata": {},
   "source": [
    "Проверим качество полученной модели на отложенной выборке:"
   ]
  },
  {
   "cell_type": "code",
   "execution_count": 48,
   "metadata": {},
   "outputs": [
    {
     "data": {
      "text/plain": [
       "tensor(72.7252, grad_fn=<SqrtBackward>)"
      ]
     },
     "execution_count": 48,
     "metadata": {},
     "output_type": "execute_result"
    }
   ],
   "source": [
    "torch.sqrt(criterion(net3(validation_examples), validation_targets))"
   ]
  },
  {
   "cell_type": "markdown",
   "metadata": {},
   "source": [
    "# MNIST"
   ]
  },
  {
   "cell_type": "markdown",
   "metadata": {},
   "source": [
    "Обучим нейронную сеть на датасете  MNIST, содержащем 10 видов различной одежды:"
   ]
  },
  {
   "cell_type": "code",
   "execution_count": 51,
   "metadata": {},
   "outputs": [],
   "source": [
    "from keras.datasets import mnist, fashion_mnist, cifar10\n",
    "from keras.utils.np_utils import to_categorical  \n",
    "(x_train, y_train), (x_test, y_test) = mnist.load_data()\n",
    "\n",
    "x_train = x_train/255\n",
    "x_test = x_test/255\n",
    "\n",
    "ycat_train = to_categorical(y_train, num_classes=10)\n",
    "ycat_test = to_categorical(y_test, num_classes=10)"
   ]
  },
  {
   "cell_type": "code",
   "execution_count": 52,
   "metadata": {},
   "outputs": [
    {
     "data": {
      "text/plain": [
       "<matplotlib.image.AxesImage at 0x231232e0e48>"
      ]
     },
     "execution_count": 52,
     "metadata": {},
     "output_type": "execute_result"
    },
    {
     "data": {
      "image/png": "[encoded data removed]",
      "text/plain": [
       "<Figure size 432x288 with 1 Axes>"
      ]
     },
     "metadata": {
      "image/png": {
       "height": 250,
       "width": 253
      },
      "needs_background": "light"
     },
     "output_type": "display_data"
    }
   ],
   "source": [
    "plt.imshow(x_train[0],cmap = 'gray')"
   ]
  },
  {
   "cell_type": "code",
   "execution_count": 53,
   "metadata": {},
   "outputs": [],
   "source": [
    "ycat_train = torch.tensor(ycat_train)\n",
    "ycat_test = torch.tensor(ycat_test)\n",
    "\n",
    "x_train = torch.tensor(x_train).view(-1,28*28).float()\n",
    "y_train = torch.tensor(y_train).float()\n",
    "x_test = torch.tensor(x_test).view(-1,28*28).float()\n",
    "y_test = torch.tensor(y_test).float()\n"
   ]
  },
  {
   "cell_type": "code",
   "execution_count": 54,
   "metadata": {},
   "outputs": [
    {
     "name": "stdout",
     "output_type": "stream",
     "text": [
      "torch.Size([60000, 784]) torch.Size([60000]) torch.Size([10000, 784]) torch.Size([10000])\n"
     ]
    }
   ],
   "source": [
    "print(x_train.shape,y_train.shape,x_test.shape,y_test.shape)"
   ]
  },
  {
   "cell_type": "markdown",
   "metadata": {},
   "source": [
    "Построим модель с ```nn.CrossEntropyLoss()```. На последнем слое не будем применять ```torch.softmax```, так как в ```nn.CrossEntropyLoss()``` эта функция уже применяется. <br>\n",
    "Но чтобы получить нормальные предсказания в виде вектора вероятностей быть той или иной цифрой и проверить точность предсказаний, применить ```torch.softmax``` все же придется."
   ]
  },
  {
   "cell_type": "code",
   "execution_count": 55,
   "metadata": {},
   "outputs": [
    {
     "name": "stdout",
     "output_type": "stream",
     "text": [
      "MnistSoftmaxNet(\n",
      "  (fc1): Linear(in_features=784, out_features=128, bias=True)\n",
      "  (fc2): Linear(in_features=128, out_features=64, bias=True)\n",
      "  (fc3): Linear(in_features=64, out_features=10, bias=True)\n",
      ")\n"
     ]
    }
   ],
   "source": [
    "class MnistSoftmaxNet(nn.Module):\n",
    "\n",
    "    def __init__(self):\n",
    "        super().__init__()\n",
    "\n",
    "        self.fc1 = nn.Linear(784, 128)\n",
    "        self.fc2 = nn.Linear(128, 64)\n",
    "        self.fc3 = nn.Linear(64, 10)\n",
    "        \n",
    "    def forward(self, x):\n",
    "        x = torch.relu(self.fc1(x.float()))\n",
    "        x = torch.relu(self.fc2(x))\n",
    "        x = self.fc3(x)\n",
    "        \n",
    "        return x\n",
    "\n",
    "net = MnistSoftmaxNet()\n",
    "print(net)"
   ]
  },
  {
   "cell_type": "code",
   "execution_count": 60,
   "metadata": {},
   "outputs": [
    {
     "name": "stderr",
     "output_type": "stream",
     "text": [
      "  0%|                                                                                            | 0/5 [00:00<?, ?it/s]"
     ]
    },
    {
     "name": "stdout",
     "output_type": "stream",
     "text": [
      "Loss on epoch 0 - 0.3469472786963685\n"
     ]
    },
    {
     "name": "stderr",
     "output_type": "stream",
     "text": [
      " 20%|████████████████▊                                                                   | 1/5 [00:03<00:14,  3.72s/it]"
     ]
    },
    {
     "name": "stdout",
     "output_type": "stream",
     "text": [
      "Loss on epoch 1 - 0.14035999188338644\n"
     ]
    },
    {
     "name": "stderr",
     "output_type": "stream",
     "text": [
      " 40%|█████████████████████████████████▌                                                  | 2/5 [00:07<00:11,  3.77s/it]"
     ]
    },
    {
     "name": "stdout",
     "output_type": "stream",
     "text": [
      "Loss on epoch 2 - 0.09545295598354739\n"
     ]
    },
    {
     "name": "stderr",
     "output_type": "stream",
     "text": [
      " 60%|██████████████████████████████████████████████████▍                                 | 3/5 [00:11<00:07,  3.87s/it]"
     ]
    },
    {
     "name": "stdout",
     "output_type": "stream",
     "text": [
      "Loss on epoch 3 - 0.07144607813246469\n"
     ]
    },
    {
     "name": "stderr",
     "output_type": "stream",
     "text": [
      " 80%|███████████████████████████████████████████████████████████████████▏                | 4/5 [00:16<00:04,  4.05s/it]"
     ]
    },
    {
     "name": "stdout",
     "output_type": "stream",
     "text": [
      "Loss on epoch 4 - 0.05528676270572806\n"
     ]
    },
    {
     "name": "stderr",
     "output_type": "stream",
     "text": [
      "100%|████████████████████████████████████████████████████████████████████████████████████| 5/5 [00:20<00:00,  4.09s/it]\n"
     ]
    }
   ],
   "source": [
    "#!pip install tqdm\n",
    "\n",
    "from tqdm import trange\n",
    "\n",
    "seed = 0\n",
    "torch.manual_seed(seed)\n",
    "np.random.seed(seed)\n",
    "    \n",
    "net = MnistSoftmaxNet()\n",
    "\n",
    "\n",
    "optimizer = optim.Adam(net.parameters())\n",
    "\n",
    "criterion = nn.CrossEntropyLoss()\n",
    "\n",
    "for epoch in trange(5):\n",
    "    running_loss = 0.0\n",
    "    batch_counter = 0\n",
    "    for batch in generate_minibatches(x_train, y_train, 64, shuffle = True):\n",
    "        \n",
    "        data, labels = batch\n",
    "        \n",
    "        # Прямое распространение\n",
    "        output = net(data)\n",
    "        \n",
    "        # Подсчет ошибки на батче\n",
    "        loss = criterion(output, labels.long()) \n",
    "        \n",
    "        # Обратное распространение\n",
    "        loss.backward()\n",
    "        \n",
    "        #Обновление весов\n",
    "        optimizer.step()\n",
    "        \n",
    "        #Обнуление градиентов\n",
    "        optimizer.zero_grad() \n",
    "        \n",
    "        running_loss += loss.item()\n",
    "        \n",
    "        batch_counter+=1\n",
    "    \n",
    "    if epoch%1==0:\n",
    "        print(f\"Mean loss on epoch {epoch} - {running_loss/batch_counter}\") "
   ]
  },
  {
   "cell_type": "markdown",
   "metadata": {},
   "source": [
    "Получили довольно высокую точность на тестовой выборке:"
   ]
  },
  {
   "cell_type": "code",
   "execution_count": 61,
   "metadata": {},
   "outputs": [
    {
     "data": {
      "text/plain": [
       "0.976"
      ]
     },
     "execution_count": 61,
     "metadata": {},
     "output_type": "execute_result"
    }
   ],
   "source": [
    "accuracy_score(torch.argmax(torch.softmax(net(x_test.float()),-1),dim = -1), y_test)"
   ]
  },
  {
   "cell_type": "markdown",
   "metadata": {},
   "source": [
    "На самом деле, создавать модели можно и более простым способом. Но тогда теряется гибкость настройки модели и мы лишаемся возможности создавать свои слои:"
   ]
  },
  {
   "cell_type": "code",
   "execution_count": 66,
   "metadata": {},
   "outputs": [],
   "source": [
    "layers = []\n",
    "layers.append(nn.Linear(784, 128))\n",
    "layers.append(nn.ReLU())\n",
    "layers.append(nn.Linear(128, 64))\n",
    "layers.append(nn.ReLU())\n",
    "layers.append(nn.Linear(64, 10))\n",
    "\n",
    "net = nn.Sequential(*layers)"
   ]
  },
  {
   "cell_type": "code",
   "execution_count": 67,
   "metadata": {},
   "outputs": [
    {
     "data": {
      "text/plain": [
       "Sequential(\n",
       "  (0): Linear(in_features=784, out_features=128, bias=True)\n",
       "  (1): ReLU()\n",
       "  (2): Linear(in_features=128, out_features=64, bias=True)\n",
       "  (3): ReLU()\n",
       "  (4): Linear(in_features=64, out_features=10, bias=True)\n",
       ")"
      ]
     },
     "execution_count": 67,
     "metadata": {},
     "output_type": "execute_result"
    }
   ],
   "source": [
    "net"
   ]
  },
  {
   "cell_type": "code",
   "execution_count": 68,
   "metadata": {},
   "outputs": [
    {
     "name": "stderr",
     "output_type": "stream",
     "text": [
      "\n",
      "  0%|                                                                                            | 0/5 [00:00<?, ?it/s]"
     ]
    },
    {
     "name": "stdout",
     "output_type": "stream",
     "text": [
      "Loss on epoch 0 - 0.34694740176200867\n"
     ]
    },
    {
     "name": "stderr",
     "output_type": "stream",
     "text": [
      "\n",
      " 20%|████████████████▊                                                                   | 1/5 [00:03<00:14,  3.74s/it]"
     ]
    },
    {
     "name": "stdout",
     "output_type": "stream",
     "text": [
      "Loss on epoch 1 - 0.14035993814468384\n"
     ]
    },
    {
     "name": "stderr",
     "output_type": "stream",
     "text": [
      "\n",
      " 40%|█████████████████████████████████▌                                                  | 2/5 [00:09<00:12,  4.25s/it]"
     ]
    },
    {
     "name": "stdout",
     "output_type": "stream",
     "text": [
      "Loss on epoch 2 - 0.09545297920703888\n"
     ]
    },
    {
     "name": "stderr",
     "output_type": "stream",
     "text": [
      "\n",
      " 60%|██████████████████████████████████████████████████▍                                 | 3/5 [00:13<00:08,  4.23s/it]"
     ]
    },
    {
     "name": "stdout",
     "output_type": "stream",
     "text": [
      "Loss on epoch 3 - 0.07144609093666077\n"
     ]
    },
    {
     "name": "stderr",
     "output_type": "stream",
     "text": [
      "\n",
      " 80%|███████████████████████████████████████████████████████████████████▏                | 4/5 [00:17<00:04,  4.20s/it]"
     ]
    },
    {
     "name": "stdout",
     "output_type": "stream",
     "text": [
      "Loss on epoch 4 - 0.05528676137328148\n"
     ]
    },
    {
     "name": "stderr",
     "output_type": "stream",
     "text": [
      "\n",
      "100%|████████████████████████████████████████████████████████████████████████████████████| 5/5 [00:21<00:00,  4.20s/it]"
     ]
    }
   ],
   "source": [
    "#!pip install tqdm\n",
    "\n",
    "from tqdm import trange\n",
    "\n",
    "seed = 0\n",
    "torch.manual_seed(seed)\n",
    "np.random.seed(seed)\n",
    "\n",
    "\n",
    "optimizer = optim.Adam(net.parameters())\n",
    "\n",
    "criterion = nn.CrossEntropyLoss()\n",
    "\n",
    "for epoch in trange(5):\n",
    "    running_loss = 0.0\n",
    "    batch_counter = 0\n",
    "    for batch in generate_minibatches(x_train, y_train, 64, shuffle = True):\n",
    "        \n",
    "        data, labels = batch\n",
    "        \n",
    "        # Прямое распространение\n",
    "        output = net(data)\n",
    "        \n",
    "        # Подсчет ошибки на батче\n",
    "        loss = criterion(output, labels.long()) \n",
    "        \n",
    "        # Обратное распространение\n",
    "        loss.backward()\n",
    "        \n",
    "        #Обновление весов\n",
    "        optimizer.step()\n",
    "        \n",
    "        #Обнуление градиентов\n",
    "        optimizer.zero_grad() \n",
    "        \n",
    "        running_loss += loss #вызов .item() переводит полученное число на cpu, что замедляет работу\n",
    "        \n",
    "        batch_counter+=1\n",
    "        \n",
    "    if epoch%1==0:\n",
    "        print(f\"Loss on epoch {epoch} - {running_loss/batch_counter}\") "
   ]
  },
  {
   "cell_type": "code",
   "execution_count": 69,
   "metadata": {},
   "outputs": [
    {
     "data": {
      "text/plain": [
       "0.976"
      ]
     },
     "execution_count": 69,
     "metadata": {},
     "output_type": "execute_result"
    }
   ],
   "source": [
    "accuracy_score(torch.argmax(torch.softmax(net(x_test.float()),-1),dim = -1), y_test)"
   ]
  },
  {
   "cell_type": "markdown",
   "metadata": {},
   "source": [
    "# Заключение"
   ]
  },
  {
   "cell_type": "markdown",
   "metadata": {},
   "source": [
    "Мы рассмотрели базовые понятия ```pytorch``` и научились строить модели полносвязных нейронных сетей используя встроенные функции."
   ]
  }
 ],
 "metadata": {
  "kernelspec": {
   "display_name": "Python 3",
   "language": "python",
   "name": "python3"
  },
  "language_info": {
   "codemirror_mode": {
    "name": "ipython",
    "version": 3
   },
   "file_extension": ".py",
   "mimetype": "text/x-python",
   "name": "python",
   "nbconvert_exporter": "python",
   "pygments_lexer": "ipython3",
   "version": "3.6.6"
  }
 },
 "nbformat": 4,
 "nbformat_minor": 4
}
